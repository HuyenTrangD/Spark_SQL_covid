{
 "cells": [
  {
   "cell_type": "code",
   "execution_count": null,
   "id": "ad706433-1479-44cc-bf53-5e6447e96b3b",
   "metadata": {
    "tags": []
   },
   "outputs": [
    {
     "name": "stdout",
     "output_type": "stream",
     "text": [
      "root\n",
      " |-- state: string (nullable = true)\n",
      " |-- county: string (nullable = true)\n",
      " |-- age_group: string (nullable = true)\n",
      " |-- gender: string (nullable = true)\n",
      " |-- date: date (nullable = true)\n",
      " |-- cases: integer (nullable = true)\n",
      " |-- deaths: integer (nullable = true)\n",
      " |-- recovered: integer (nullable = true)\n",
      "\n"
     ]
    }
   ],
   "source": [
    "from pyspark.sql import *\n",
    "\n",
    "spark = SparkSession.builder.getOrCreate() # on crée la session\n",
    "data = spark.read.csv(\"covid_de.csv\", header=True, inferSchema=True) # on récupère le csv et on définit les paramètres\n",
    "data.printSchema() # on affiche le schema\n",
    "data.createOrReplaceTempView(\"covid\") # on crée un vue temporaire en la nommant"
   ]
  },
  {
   "attachments": {},
   "cell_type": "markdown",
   "id": "a1521fdf-7471-4c84-98ed-ff3726f5167a",
   "metadata": {},
   "source": [
    "## Récupérer la table en dataframe"
   ]
  },
  {
   "cell_type": "code",
   "execution_count": null,
   "id": "44cdb57e-4ac3-4fb0-bfc2-8513133d529b",
   "metadata": {
    "tags": []
   },
   "outputs": [
    {
     "name": "stdout",
     "output_type": "stream",
     "text": [
      "+------------------+------------------+---------+------+----------+-----+------+---------+\n",
      "|             state|            county|age_group|gender|      date|cases|deaths|recovered|\n",
      "+------------------+------------------+---------+------+----------+-----+------+---------+\n",
      "|Baden-Wuerttemberg|LK Alb-Donau-Kreis|    00-04|     F|2020-03-27|    1|     0|        1|\n",
      "|Baden-Wuerttemberg|LK Alb-Donau-Kreis|    00-04|     F|2020-03-28|    1|     0|        1|\n",
      "|Baden-Wuerttemberg|LK Alb-Donau-Kreis|    00-04|     F|2020-04-03|    1|     0|        1|\n",
      "|Baden-Wuerttemberg|LK Alb-Donau-Kreis|    00-04|     M|2020-04-05|    1|     0|        1|\n",
      "|Baden-Wuerttemberg|LK Alb-Donau-Kreis|    00-04|     M|2020-05-18|    1|     0|        1|\n",
      "|Baden-Wuerttemberg|LK Alb-Donau-Kreis|    05-14|     F|2020-03-17|    1|     0|        1|\n",
      "|Baden-Wuerttemberg|LK Alb-Donau-Kreis|    05-14|     F|2020-03-25|    1|     0|        1|\n",
      "|Baden-Wuerttemberg|LK Alb-Donau-Kreis|    05-14|     F|2020-03-26|    1|     0|        1|\n",
      "|Baden-Wuerttemberg|LK Alb-Donau-Kreis|    05-14|     F|2020-03-29|    1|     0|        1|\n",
      "|Baden-Wuerttemberg|LK Alb-Donau-Kreis|    05-14|     F|2020-03-31|    1|     0|        1|\n",
      "|Baden-Wuerttemberg|LK Alb-Donau-Kreis|    05-14|     F|2020-04-01|    1|     0|        1|\n",
      "|Baden-Wuerttemberg|LK Alb-Donau-Kreis|    05-14|     F|2020-04-09|    1|     0|        1|\n",
      "|Baden-Wuerttemberg|LK Alb-Donau-Kreis|    05-14|     F|2020-04-17|    1|     0|        1|\n",
      "|Baden-Wuerttemberg|LK Alb-Donau-Kreis|    05-14|     F|2020-04-27|    1|     0|        1|\n",
      "|Baden-Wuerttemberg|LK Alb-Donau-Kreis|    05-14|     F|2020-05-11|    1|     0|        1|\n",
      "|Baden-Wuerttemberg|LK Alb-Donau-Kreis|    05-14|     F|2020-05-23|    1|     0|        1|\n",
      "|Baden-Wuerttemberg|LK Alb-Donau-Kreis|    05-14|     M|2020-03-26|    1|     0|        1|\n",
      "|Baden-Wuerttemberg|LK Alb-Donau-Kreis|    05-14|     M|2020-03-30|    1|     0|        1|\n",
      "|Baden-Wuerttemberg|LK Alb-Donau-Kreis|    05-14|     M|2020-04-01|    2|     0|        2|\n",
      "|Baden-Wuerttemberg|LK Alb-Donau-Kreis|    05-14|     M|2020-05-23|    1|     0|        1|\n",
      "+------------------+------------------+---------+------+----------+-----+------+---------+\n",
      "only showing top 20 rows\n",
      "\n"
     ]
    }
   ],
   "source": [
    "table = spark.table('covid')\n",
    "table.show()"
   ]
  },
  {
   "cell_type": "markdown",
   "id": "71baea70-d67e-42e9-ab6f-9278849373bc",
   "metadata": {},
   "source": [
    "## Le select "
   ]
  },
  {
   "cell_type": "code",
   "execution_count": null,
   "id": "9d30caff-1c06-46af-967a-2c575221a68d",
   "metadata": {
    "tags": []
   },
   "outputs": [
    {
     "name": "stdout",
     "output_type": "stream",
     "text": [
      "+------------------+------------------+\n",
      "|             state|            county|\n",
      "+------------------+------------------+\n",
      "|Baden-Wuerttemberg|LK Alb-Donau-Kreis|\n",
      "|Baden-Wuerttemberg|LK Alb-Donau-Kreis|\n",
      "|Baden-Wuerttemberg|LK Alb-Donau-Kreis|\n",
      "|Baden-Wuerttemberg|LK Alb-Donau-Kreis|\n",
      "|Baden-Wuerttemberg|LK Alb-Donau-Kreis|\n",
      "|Baden-Wuerttemberg|LK Alb-Donau-Kreis|\n",
      "|Baden-Wuerttemberg|LK Alb-Donau-Kreis|\n",
      "|Baden-Wuerttemberg|LK Alb-Donau-Kreis|\n",
      "|Baden-Wuerttemberg|LK Alb-Donau-Kreis|\n",
      "|Baden-Wuerttemberg|LK Alb-Donau-Kreis|\n",
      "|Baden-Wuerttemberg|LK Alb-Donau-Kreis|\n",
      "|Baden-Wuerttemberg|LK Alb-Donau-Kreis|\n",
      "|Baden-Wuerttemberg|LK Alb-Donau-Kreis|\n",
      "|Baden-Wuerttemberg|LK Alb-Donau-Kreis|\n",
      "|Baden-Wuerttemberg|LK Alb-Donau-Kreis|\n",
      "|Baden-Wuerttemberg|LK Alb-Donau-Kreis|\n",
      "|Baden-Wuerttemberg|LK Alb-Donau-Kreis|\n",
      "|Baden-Wuerttemberg|LK Alb-Donau-Kreis|\n",
      "|Baden-Wuerttemberg|LK Alb-Donau-Kreis|\n",
      "|Baden-Wuerttemberg|LK Alb-Donau-Kreis|\n",
      "+------------------+------------------+\n",
      "only showing top 20 rows\n",
      "\n"
     ]
    }
   ],
   "source": [
    "display_country_and_state = table.select('state','county')\n",
    "display_country_and_state.show()"
   ]
  },
  {
   "cell_type": "markdown",
   "id": "43937d7f-386b-44b8-8f65-a70f81579d09",
   "metadata": {},
   "source": [
    "## Le distinct"
   ]
  },
  {
   "cell_type": "code",
   "execution_count": null,
   "id": "e741ebe9-eff8-456d-b2c7-3f7292fa87d3",
   "metadata": {
    "tags": []
   },
   "outputs": [
    {
     "name": "stdout",
     "output_type": "stream",
     "text": [
      "+--------------------+--------------------+\n",
      "|               state|              county|\n",
      "+--------------------+--------------------+\n",
      "|              Bayern|           SK Passau|\n",
      "|       Niedersachsen|            SK Emden|\n",
      "|              Hessen|        SK Offenbach|\n",
      "|  Baden-Wuerttemberg|             LK Calw|\n",
      "|              Bayern|       LK Ostallgaeu|\n",
      "|              Bayern|    SK Aschaffenburg|\n",
      "|         Brandenburg|         LK Prignitz|\n",
      "| Nordrhein-Westfalen| LK Rhein-Sieg-Kreis|\n",
      "|              Bayern| LK Nuernberger Land|\n",
      "| Nordrhein-Westfalen|        LK Heinsberg|\n",
      "| Nordrhein-Westfalen|            LK Wesel|\n",
      "|         Brandenburg|       LK Oder-Spree|\n",
      "|Mecklenburg-Vorpo...|LK Ludwigslust-Pa...|\n",
      "| Nordrhein-Westfalen|       LK Euskirchen|\n",
      "|              Bayern|           LK Dachau|\n",
      "|              Bayern|  LK Straubing-Bogen|\n",
      "|              Bayern|       LK Altoetting|\n",
      "|              Bayern|           SK Amberg|\n",
      "|              Hessen|  LK Lahn-Dill-Kreis|\n",
      "|              Hessen|        LK Offenbach|\n",
      "+--------------------+--------------------+\n",
      "only showing top 20 rows\n",
      "\n"
     ]
    }
   ],
   "source": [
    "display_country_and_state_distinct = display_country_and_state.distinct()\n",
    "display_country_and_state_distinct.show()"
   ]
  },
  {
   "cell_type": "markdown",
   "id": "e3faac76-dbba-4a3b-a670-7db422d3b9c5",
   "metadata": {},
   "source": [
    "## en passant directement par la table"
   ]
  },
  {
   "cell_type": "code",
   "execution_count": null,
   "id": "c3d7e5f4-adf2-4382-8790-5e8fb53fb0db",
   "metadata": {
    "tags": []
   },
   "outputs": [
    {
     "name": "stdout",
     "output_type": "stream",
     "text": [
      "+--------------------+--------------------+\n",
      "|               state|              county|\n",
      "+--------------------+--------------------+\n",
      "|              Bayern|           SK Passau|\n",
      "|       Niedersachsen|            SK Emden|\n",
      "|              Hessen|        SK Offenbach|\n",
      "|  Baden-Wuerttemberg|             LK Calw|\n",
      "|              Bayern|       LK Ostallgaeu|\n",
      "|              Bayern|    SK Aschaffenburg|\n",
      "|         Brandenburg|         LK Prignitz|\n",
      "| Nordrhein-Westfalen| LK Rhein-Sieg-Kreis|\n",
      "|              Bayern| LK Nuernberger Land|\n",
      "| Nordrhein-Westfalen|        LK Heinsberg|\n",
      "| Nordrhein-Westfalen|            LK Wesel|\n",
      "|         Brandenburg|       LK Oder-Spree|\n",
      "|Mecklenburg-Vorpo...|LK Ludwigslust-Pa...|\n",
      "| Nordrhein-Westfalen|       LK Euskirchen|\n",
      "|              Bayern|           LK Dachau|\n",
      "|              Bayern|  LK Straubing-Bogen|\n",
      "|              Bayern|       LK Altoetting|\n",
      "|              Bayern|           SK Amberg|\n",
      "|              Hessen|  LK Lahn-Dill-Kreis|\n",
      "|              Hessen|        LK Offenbach|\n",
      "+--------------------+--------------------+\n",
      "only showing top 20 rows\n",
      "\n"
     ]
    }
   ],
   "source": [
    "display_country_and_state_distinct = table.select('state','county') \\\n",
    "                                        .distinct()\n",
    "display_country_and_state_distinct.show()"
   ]
  },
  {
   "cell_type": "code",
   "execution_count": null,
   "id": "a111cbf8-b7ce-4880-aede-2f66a4875afe",
   "metadata": {
    "tags": []
   },
   "outputs": [],
   "source": [
    "from pyspark.sql.functions import *"
   ]
  },
  {
   "cell_type": "markdown",
   "id": "6ac22e78-0f12-406e-97dc-1d8d8778af78",
   "metadata": {},
   "source": [
    "## Utilisation des filters"
   ]
  },
  {
   "cell_type": "code",
   "execution_count": null,
   "id": "5e7c911a-a51c-4526-9ce3-1237a2d1c737",
   "metadata": {
    "tags": []
   },
   "outputs": [
    {
     "name": "stdout",
     "output_type": "stream",
     "text": [
      "+------------------+--------------------+\n",
      "|             state|              county|\n",
      "+------------------+--------------------+\n",
      "|            Bayern|           SK Passau|\n",
      "|Baden-Wuerttemberg|             LK Calw|\n",
      "|            Bayern|       LK Ostallgaeu|\n",
      "|            Bayern|    SK Aschaffenburg|\n",
      "|       Brandenburg|         LK Prignitz|\n",
      "|            Bayern| LK Nuernberger Land|\n",
      "|       Brandenburg|       LK Oder-Spree|\n",
      "|            Bayern|           LK Dachau|\n",
      "|            Bayern|  LK Straubing-Bogen|\n",
      "|            Bayern|       LK Altoetting|\n",
      "|            Bayern|           SK Amberg|\n",
      "|            Berlin| SK Berlin Neukoelln|\n",
      "|Baden-Wuerttemberg|        SK Stuttgart|\n",
      "|Baden-Wuerttemberg|         LK Enzkreis|\n",
      "|            Bayern|          LK Bamberg|\n",
      "|            Bayern|      LK Lichtenfels|\n",
      "|Baden-Wuerttemberg|LK Main-Tauber-Kreis|\n",
      "|            Bayern|       SK Regensburg|\n",
      "|            Bayern|          LK Ansbach|\n",
      "|            Bayern|     LK Unterallgaeu|\n",
      "+------------------+--------------------+\n",
      "only showing top 20 rows\n",
      "\n"
     ]
    }
   ],
   "source": [
    "show_state_start_by_b = display_country_and_state_distinct \\\n",
    "                            .filter(col('state').startswith('B'))\n",
    "\n",
    "show_state_start_by_b.show()"
   ]
  },
  {
   "cell_type": "code",
   "execution_count": null,
   "id": "2b8c0448-1a93-4974-a4f5-4a4519c3ed48",
   "metadata": {
    "tags": []
   },
   "outputs": [
    {
     "name": "stdout",
     "output_type": "stream",
     "text": [
      "+------+-------------------+\n",
      "| state|             county|\n",
      "+------+-------------------+\n",
      "|Bayern|          SK Passau|\n",
      "|Bayern|      LK Ostallgaeu|\n",
      "|Bayern|   SK Aschaffenburg|\n",
      "|Bayern|LK Nuernberger Land|\n",
      "|Bayern|          LK Dachau|\n",
      "|Bayern| LK Straubing-Bogen|\n",
      "|Bayern|      LK Altoetting|\n",
      "|Bayern|          SK Amberg|\n",
      "|Bayern|         LK Bamberg|\n",
      "|Bayern|     LK Lichtenfels|\n",
      "|Bayern|      SK Regensburg|\n",
      "|Bayern|         LK Ansbach|\n",
      "|Bayern|    LK Unterallgaeu|\n",
      "|Bayern|        SK Muenchen|\n",
      "|Bayern|       SK Wuerzburg|\n",
      "|Bayern|       LK Kitzingen|\n",
      "|Bayern|         LK Kronach|\n",
      "|Bayern|      LK Deggendorf|\n",
      "|Bayern|         LK Kelheim|\n",
      "|Bayern|   LK Main-Spessart|\n",
      "+------+-------------------+\n",
      "only showing top 20 rows\n",
      "\n"
     ]
    }
   ],
   "source": [
    "show_state_start_by_b = display_country_and_state_distinct \\\n",
    "                            .filter(col('state')== \"Bayern\").show()\n",
    "\n"
   ]
  },
  {
   "cell_type": "markdown",
   "id": "a8aa8adc-7220-4d83-b3db-4bec7ea6e37c",
   "metadata": {},
   "source": [
    "## condition en AND"
   ]
  },
  {
   "cell_type": "code",
   "execution_count": null,
   "id": "19bde063-19b2-4327-815b-e3ade3529897",
   "metadata": {
    "tags": []
   },
   "outputs": [
    {
     "name": "stdout",
     "output_type": "stream",
     "text": [
      "25318\n"
     ]
    },
    {
     "data": {
      "text/plain": [
       "int"
      ]
     },
     "execution_count": 31,
     "metadata": {},
     "output_type": "execute_result"
    }
   ],
   "source": [
    "women_recovered = table.filter((col('gender') == 'F') &  (col('recovered') == 1)).count()\n",
    "print(women_recovered)\n",
    "type(women_recovered)"
   ]
  },
  {
   "cell_type": "markdown",
   "id": "3acc729a-b73b-4ff8-8ea1-8a8da47b7706",
   "metadata": {},
   "source": [
    "## condition en OR"
   ]
  },
  {
   "cell_type": "code",
   "execution_count": null,
   "id": "c95a0859-5427-4d43-bd59-a22d46326d49",
   "metadata": {
    "tags": []
   },
   "outputs": [
    {
     "data": {
      "text/plain": [
       "24299"
      ]
     },
     "execution_count": 33,
     "metadata": {},
     "output_type": "execute_result"
    }
   ],
   "source": [
    "state = table.filter((col('state') == 'Bayern') |  (col('state') == 'Brandenburg')).count()\n",
    "state\n"
   ]
  },
  {
   "attachments": {},
   "cell_type": "markdown",
   "id": "bef189d2-0a8f-42bc-8d12-41ed35a2fc71",
   "metadata": {},
   "source": [
    "## Le tri"
   ]
  },
  {
   "cell_type": "code",
   "execution_count": null,
   "id": "93cb9561-f67f-48ea-907f-60ef675db809",
   "metadata": {
    "tags": []
   },
   "outputs": [
    {
     "name": "stdout",
     "output_type": "stream",
     "text": [
      "+-------------------+--------------------+---------+------+----------+-----+------+---------+\n",
      "|              state|              county|age_group|gender|      date|cases|deaths|recovered|\n",
      "+-------------------+--------------------+---------+------+----------+-----+------+---------+\n",
      "|             Bayern|        LK Starnberg|    35-59|     M|2020-01-28|    1|     0|        1|\n",
      "|             Bayern| LK Landsberg a.Lech|    15-34|     M|2020-01-28|    1|     0|        1|\n",
      "|             Bayern|LK Fuerstenfeldbruck|    15-34|     M|2020-01-29|    1|     0|        1|\n",
      "|             Bayern|         SK Muenchen|    15-34|     F|2020-01-29|    1|     0|        1|\n",
      "|             Bayern|LK Fuerstenfeldbruck|    35-59|     M|2020-01-31|    1|     0|        1|\n",
      "|             Bayern|       LK Traunstein|    35-59|     M|2020-01-31|    1|     0|        1|\n",
      "|             Bayern|       LK Traunstein|    00-04|     F|2020-01-31|    1|     0|        1|\n",
      "|             Bayern|         SK Muenchen|    15-34|     M|2020-02-03|    1|     0|        1|\n",
      "|             Bayern|         LK Muenchen|    35-59|     M|2020-02-04|    1|     0|        1|\n",
      "|      Niedersachsen|      SK Delmenhorst|    35-59|     M|2020-02-04|    1|     0|        1|\n",
      "|             Bayern| LK Landsberg a.Lech|    15-34|     M|2020-02-04|    1|     0|        1|\n",
      "|             Bayern|       LK Traunstein|    00-04|     M|2020-02-04|    1|     0|        1|\n",
      "|             Bayern|       LK Traunstein|    35-59|     F|2020-02-06|    1|     0|        1|\n",
      "|             Bayern|LK Fuerstenfeldbruck|    35-59|     F|2020-02-07|    1|     0|        1|\n",
      "|             Bayern|         SK Muenchen|    35-59|     M|2020-02-11|    1|     0|        1|\n",
      "|             Bayern|        LK Starnberg|    00-04|     M|2020-02-11|    1|     0|        1|\n",
      "|Nordrhein-Westfalen|            SK Koeln|    60-79|     F|2020-02-12|    1|     0|        1|\n",
      "|             Bayern|         LK Freising|    35-59|     F|2020-02-12|    1|     0|        1|\n",
      "|Nordrhein-Westfalen|            SK Koeln|    80-99|     F|2020-02-20|    1|     0|        1|\n",
      "|Nordrhein-Westfalen|            SK Koeln|    80-99|     F|2020-02-22|    1|     0|        1|\n",
      "+-------------------+--------------------+---------+------+----------+-----+------+---------+\n",
      "only showing top 20 rows\n",
      "\n"
     ]
    }
   ],
   "source": [
    "trie = table. \\\n",
    "        sort( \\\n",
    "            col('date').asc(), \\\n",
    "            col('age_group').desc() \\\n",
    "        ).show()"
   ]
  },
  {
   "attachments": {},
   "cell_type": "markdown",
   "id": "5de17d28-9513-4320-8055-703fecbb9a0e",
   "metadata": {},
   "source": [
    "## La limite"
   ]
  },
  {
   "cell_type": "code",
   "execution_count": null,
   "id": "570521a2-c314-47c1-849d-3c8926e459fb",
   "metadata": {
    "tags": []
   },
   "outputs": [
    {
     "name": "stdout",
     "output_type": "stream",
     "text": [
      "+------------------+------------------+---------+------+----------+-----+------+---------+\n",
      "|             state|            county|age_group|gender|      date|cases|deaths|recovered|\n",
      "+------------------+------------------+---------+------+----------+-----+------+---------+\n",
      "|Baden-Wuerttemberg|LK Alb-Donau-Kreis|    00-04|     F|2020-03-27|    1|     0|        1|\n",
      "|Baden-Wuerttemberg|LK Alb-Donau-Kreis|    00-04|     F|2020-03-28|    1|     0|        1|\n",
      "|Baden-Wuerttemberg|LK Alb-Donau-Kreis|    00-04|     F|2020-04-03|    1|     0|        1|\n",
      "|Baden-Wuerttemberg|LK Alb-Donau-Kreis|    00-04|     M|2020-04-05|    1|     0|        1|\n",
      "|Baden-Wuerttemberg|LK Alb-Donau-Kreis|    00-04|     M|2020-05-18|    1|     0|        1|\n",
      "+------------------+------------------+---------+------+----------+-----+------+---------+\n",
      "\n"
     ]
    }
   ],
   "source": [
    "limite = table.limit(5).show()"
   ]
  },
  {
   "attachments": {},
   "cell_type": "markdown",
   "id": "84f5a0bd-f71f-4ca0-97a3-fc424f885e69",
   "metadata": {},
   "source": [
    "## Les agrégations"
   ]
  },
  {
   "cell_type": "code",
   "execution_count": null,
   "id": "f6183179-7fe3-4342-a7dd-289803753973",
   "metadata": {
    "tags": []
   },
   "outputs": [
    {
     "name": "stdout",
     "output_type": "stream",
     "text": [
      "+------+-----+\n",
      "|gender|somme|\n",
      "+------+-----+\n",
      "|     F| 4066|\n",
      "|    NA|    5|\n",
      "|     M| 5030|\n",
      "+------+-----+\n",
      "\n"
     ]
    }
   ],
   "source": [
    "death_by_gender = table.select('gender', 'deaths') \\\n",
    "                    .groupby('gender') \\\n",
    "                    .agg( \\\n",
    "                        sum(col('deaths')).alias('somme') \\\n",
    "                    )\n",
    "\n",
    "death_by_gender.show()"
   ]
  },
  {
   "cell_type": "code",
   "execution_count": null,
   "id": "777750ef-fc6f-4967-9dbb-69a67c907757",
   "metadata": {
    "tags": []
   },
   "outputs": [
    {
     "name": "stdout",
     "output_type": "stream",
     "text": [
      "+------+-----+\n",
      "|gender|somme|\n",
      "+------+-----+\n",
      "|     M| 5030|\n",
      "+------+-----+\n",
      "\n"
     ]
    }
   ],
   "source": [
    "death_by_gender_sum_5k =  table.select('gender', 'deaths') \\\n",
    "                    .groupby('gender') \\\n",
    "                    .agg( \\\n",
    "                        sum(col('deaths')).alias('somme') \\\n",
    "                    ) \\\n",
    "                    .where(col('somme') > 5000) \n",
    "\n",
    "\n",
    "death_by_gender_sum_5k.show()"
   ]
  },
  {
   "cell_type": "markdown",
   "id": "f90b5479-b34b-42b8-8fb6-60fe456cc815",
   "metadata": {},
   "source": [
    "## Ajouter une colonne\n",
    "\n",
    "`lit` permet de créer une constante dans une nouvelle colonne"
   ]
  },
  {
   "cell_type": "code",
   "execution_count": null,
   "id": "8023d1a0-45c8-4862-b242-32ebe5cf92d3",
   "metadata": {
    "tags": []
   },
   "outputs": [
    {
     "name": "stdout",
     "output_type": "stream",
     "text": [
      "+------------------+------------------+---------+------+----------+-----+------+---------+----+\n",
      "|             state|            county|age_group|gender|      date|cases|deaths|recovered| add|\n",
      "+------------------+------------------+---------+------+----------+-----+------+---------+----+\n",
      "|Baden-Wuerttemberg|LK Alb-Donau-Kreis|    00-04|     F|2020-03-27|    1|     0|        1|true|\n",
      "|Baden-Wuerttemberg|LK Alb-Donau-Kreis|    00-04|     F|2020-03-28|    1|     0|        1|true|\n",
      "|Baden-Wuerttemberg|LK Alb-Donau-Kreis|    00-04|     F|2020-04-03|    1|     0|        1|true|\n",
      "|Baden-Wuerttemberg|LK Alb-Donau-Kreis|    00-04|     M|2020-04-05|    1|     0|        1|true|\n",
      "|Baden-Wuerttemberg|LK Alb-Donau-Kreis|    00-04|     M|2020-05-18|    1|     0|        1|true|\n",
      "|Baden-Wuerttemberg|LK Alb-Donau-Kreis|    05-14|     F|2020-03-17|    1|     0|        1|true|\n",
      "|Baden-Wuerttemberg|LK Alb-Donau-Kreis|    05-14|     F|2020-03-25|    1|     0|        1|true|\n",
      "|Baden-Wuerttemberg|LK Alb-Donau-Kreis|    05-14|     F|2020-03-26|    1|     0|        1|true|\n",
      "|Baden-Wuerttemberg|LK Alb-Donau-Kreis|    05-14|     F|2020-03-29|    1|     0|        1|true|\n",
      "|Baden-Wuerttemberg|LK Alb-Donau-Kreis|    05-14|     F|2020-03-31|    1|     0|        1|true|\n",
      "|Baden-Wuerttemberg|LK Alb-Donau-Kreis|    05-14|     F|2020-04-01|    1|     0|        1|true|\n",
      "|Baden-Wuerttemberg|LK Alb-Donau-Kreis|    05-14|     F|2020-04-09|    1|     0|        1|true|\n",
      "|Baden-Wuerttemberg|LK Alb-Donau-Kreis|    05-14|     F|2020-04-17|    1|     0|        1|true|\n",
      "|Baden-Wuerttemberg|LK Alb-Donau-Kreis|    05-14|     F|2020-04-27|    1|     0|        1|true|\n",
      "|Baden-Wuerttemberg|LK Alb-Donau-Kreis|    05-14|     F|2020-05-11|    1|     0|        1|true|\n",
      "|Baden-Wuerttemberg|LK Alb-Donau-Kreis|    05-14|     F|2020-05-23|    1|     0|        1|true|\n",
      "|Baden-Wuerttemberg|LK Alb-Donau-Kreis|    05-14|     M|2020-03-26|    1|     0|        1|true|\n",
      "|Baden-Wuerttemberg|LK Alb-Donau-Kreis|    05-14|     M|2020-03-30|    1|     0|        1|true|\n",
      "|Baden-Wuerttemberg|LK Alb-Donau-Kreis|    05-14|     M|2020-04-01|    2|     0|        2|true|\n",
      "|Baden-Wuerttemberg|LK Alb-Donau-Kreis|    05-14|     M|2020-05-23|    1|     0|        1|true|\n",
      "+------------------+------------------+---------+------+----------+-----+------+---------+----+\n",
      "only showing top 20 rows\n",
      "\n"
     ]
    }
   ],
   "source": [
    "add_column = table.withColumn('add', lit('true'))\n",
    "\n",
    "add_column.show()"
   ]
  }
 ],
 "metadata": {
  "kernelspec": {
   "display_name": "Python 3 (ipykernel)",
   "language": "python",
   "name": "python3"
  },
  "language_info": {
   "codemirror_mode": {
    "name": "ipython",
    "version": 3
   },
   "file_extension": ".py",
   "mimetype": "text/x-python",
   "name": "python",
   "nbconvert_exporter": "python",
   "pygments_lexer": "ipython3",
   "version": "3.10.11"
  }
 },
 "nbformat": 4,
 "nbformat_minor": 5
}
